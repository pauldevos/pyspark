{
 "cells": [
  {
   "cell_type": "markdown",
   "id": "68d18ca0",
   "metadata": {},
   "source": [
    "- What were all the different types of fire calls in 2018?\n",
    "- \n",
    "- What months within the year 2018 saw the highest number of fire calls?\n",
    "- \n",
    "- Which neighborhood in San Francisco generated the most fire calls in 2018?\n",
    "- \n",
    "- Which neighborhoods had the worst response times to fire calls in 2018?\n",
    "- \n",
    "- Which week in the year in 2018 had the most fire calls?\n",
    "- \n",
    "- Is there a correlation between neighborhood, zip code, and number of fire calls?\n",
    "- \n",
    "- How can we use Parquet files or SQL tables to store this data and read it back?\n",
    "\n"
   ]
  },
  {
   "cell_type": "code",
   "execution_count": 2,
   "id": "4d412e81",
   "metadata": {},
   "outputs": [
    {
     "name": "stdout",
     "output_type": "stream",
     "text": [
      "ls: -alh: No such file or directory\r\n",
      "data/:\r\n",
      "blogs.json         sf-fire-calls.csv\r\n"
     ]
    }
   ],
   "source": [
    "ls data/ -alh"
   ]
  },
  {
   "cell_type": "code",
   "execution_count": null,
   "id": "56b3057b",
   "metadata": {},
   "outputs": [],
   "source": []
  },
  {
   "cell_type": "code",
   "execution_count": 3,
   "id": "3e345ea4",
   "metadata": {},
   "outputs": [],
   "source": [
    "fire_calls_csv = \"data/sf-fire-calls.csv\""
   ]
  },
  {
   "cell_type": "code",
   "execution_count": 55,
   "id": "13d44f36",
   "metadata": {},
   "outputs": [],
   "source": [
    "from pyspark.sql import SparkSession\n",
    "from pyspark.sql.functions import min, max, corr, mean, weekofyear, year, to_date, to_timestamp, column"
   ]
  },
  {
   "cell_type": "code",
   "execution_count": 5,
   "id": "31b4da1e",
   "metadata": {},
   "outputs": [
    {
     "name": "stderr",
     "output_type": "stream",
     "text": [
      "22/06/08 10:19:25 WARN Utils: Your hostname, Pauls-MacBook-Pro.local resolves to a loopback address: 127.0.0.1; using 192.168.4.90 instead (on interface en0)\n",
      "22/06/08 10:19:25 WARN Utils: Set SPARK_LOCAL_IP if you need to bind to another address\n",
      "WARNING: An illegal reflective access operation has occurred\n",
      "WARNING: Illegal reflective access by org.apache.spark.unsafe.Platform (file:/opt/homebrew/Cellar/apache-spark/3.2.1/libexec/jars/spark-unsafe_2.12-3.2.1.jar) to constructor java.nio.DirectByteBuffer(long,int)\n",
      "WARNING: Please consider reporting this to the maintainers of org.apache.spark.unsafe.Platform\n",
      "WARNING: Use --illegal-access=warn to enable warnings of further illegal reflective access operations\n",
      "WARNING: All illegal access operations will be denied in a future release\n",
      "Using Spark's default log4j profile: org/apache/spark/log4j-defaults.properties\n",
      "Setting default log level to \"WARN\".\n",
      "To adjust logging level use sc.setLogLevel(newLevel). For SparkR, use setLogLevel(newLevel).\n",
      "22/06/08 10:19:25 WARN NativeCodeLoader: Unable to load native-hadoop library for your platform... using builtin-java classes where applicable\n",
      "22/06/08 10:19:26 WARN Utils: Service 'SparkUI' could not bind on port 4040. Attempting port 4041.\n"
     ]
    }
   ],
   "source": [
    "spark = SparkSession.builder.appName(\"FireCallsAnalysis\").getOrCreate()"
   ]
  },
  {
   "cell_type": "code",
   "execution_count": 21,
   "id": "d1b133b7",
   "metadata": {},
   "outputs": [],
   "source": [
    "fire_df = spark.read.csv(fire_calls_csv, header=True)"
   ]
  },
  {
   "cell_type": "code",
   "execution_count": 23,
   "id": "5a86bf1f",
   "metadata": {},
   "outputs": [
    {
     "name": "stdout",
     "output_type": "stream",
     "text": [
      "+----------+------+--------------+----------------+----------+----------+--------------------+--------------------+--------------------+----+-------+---------+-----------+----+----------------+--------+-------------+-------+-------------+---------+--------+--------------------------+----------------------+------------------+--------------------+--------------------+-------------+-----+\n",
      "|CallNumber|UnitID|IncidentNumber|        CallType|  CallDate| WatchDate|CallFinalDisposition|       AvailableDtTm|             Address|City|Zipcode|Battalion|StationArea| Box|OriginalPriority|Priority|FinalPriority|ALSUnit|CallTypeGroup|NumAlarms|UnitType|UnitSequenceInCallDispatch|FirePreventionDistrict|SupervisorDistrict|        Neighborhood|            Location|        RowID|Delay|\n",
      "+----------+------+--------------+----------------+----------+----------+--------------------+--------------------+--------------------+----+-------+---------+-----------+----+----------------+--------+-------------+-------+-------------+---------+--------+--------------------------+----------------------+------------------+--------------------+--------------------+-------------+-----+\n",
      "|  20110016|   T13|       2003235|  Structure Fire|01/11/2002|01/10/2002|               Other|01/11/2002 01:51:...|2000 Block of CAL...|  SF|  94109|      B04|         38|3362|               3|       3|            3|  false|         null|        1|   TRUCK|                         2|                     4|                 5|     Pacific Heights|(37.7895840679362...|020110016-T13| 2.95|\n",
      "|  20110022|   M17|       2003241|Medical Incident|01/11/2002|01/10/2002|               Other|01/11/2002 03:01:...|0 Block of SILVER...|  SF|  94124|      B10|         42|6495|               3|       3|            3|   true|         null|        1|   MEDIC|                         1|                    10|                10|Bayview Hunters P...|(37.7337623673897...|020110022-M17|  4.7|\n",
      "+----------+------+--------------+----------------+----------+----------+--------------------+--------------------+--------------------+----+-------+---------+-----------+----+----------------+--------+-------------+-------+-------------+---------+--------+--------------------------+----------------------+------------------+--------------------+--------------------+-------------+-----+\n",
      "only showing top 2 rows\n",
      "\n"
     ]
    }
   ],
   "source": [
    "fire_df.show(2)"
   ]
  },
  {
   "cell_type": "code",
   "execution_count": 24,
   "id": "72f445d7",
   "metadata": {},
   "outputs": [
    {
     "data": {
      "text/plain": [
       "['CallNumber',\n",
       " 'UnitID',\n",
       " 'IncidentNumber',\n",
       " 'CallType',\n",
       " 'CallDate',\n",
       " 'WatchDate',\n",
       " 'CallFinalDisposition',\n",
       " 'AvailableDtTm',\n",
       " 'Address',\n",
       " 'City',\n",
       " 'Zipcode',\n",
       " 'Battalion',\n",
       " 'StationArea',\n",
       " 'Box',\n",
       " 'OriginalPriority',\n",
       " 'Priority',\n",
       " 'FinalPriority',\n",
       " 'ALSUnit',\n",
       " 'CallTypeGroup',\n",
       " 'NumAlarms',\n",
       " 'UnitType',\n",
       " 'UnitSequenceInCallDispatch',\n",
       " 'FirePreventionDistrict',\n",
       " 'SupervisorDistrict',\n",
       " 'Neighborhood',\n",
       " 'Location',\n",
       " 'RowID',\n",
       " 'Delay']"
      ]
     },
     "execution_count": 24,
     "metadata": {},
     "output_type": "execute_result"
    }
   ],
   "source": [
    "fire_df.columns"
   ]
  },
  {
   "cell_type": "code",
   "execution_count": 26,
   "id": "bdc278f2",
   "metadata": {},
   "outputs": [
    {
     "name": "stdout",
     "output_type": "stream",
     "text": [
      "+----------------------------+-----+\n",
      "|CallTypeGroup               |count|\n",
      "+----------------------------+-----+\n",
      "|null                        |99517|\n",
      "|Potentially Life-Threatening|36734|\n",
      "|Non Life-threatening        |18020|\n",
      "|Alarm                       |17990|\n",
      "|Fire                        |3035 |\n",
      "+----------------------------+-----+\n",
      "\n"
     ]
    }
   ],
   "source": [
    "fire_df.groupby('CallTypeGroup').count().sort('count', ascending=False).show(truncate=False)"
   ]
  },
  {
   "cell_type": "markdown",
   "id": "60a10121",
   "metadata": {},
   "source": [
    "## What were all the different types of fire calls in 2018?"
   ]
  },
  {
   "cell_type": "code",
   "execution_count": 36,
   "id": "04acd777",
   "metadata": {},
   "outputs": [
    {
     "name": "stdout",
     "output_type": "stream",
     "text": [
      "+--------------------------------------------+------+\n",
      "|CallType                                    |count |\n",
      "+--------------------------------------------+------+\n",
      "|Medical Incident                            |113794|\n",
      "|Structure Fire                              |23319 |\n",
      "|Alarms                                      |19406 |\n",
      "|Traffic Collision                           |7013  |\n",
      "|Citizen Assist / Service Call               |2524  |\n",
      "|Other                                       |2166  |\n",
      "|Outside Fire                                |2094  |\n",
      "|Vehicle Fire                                |854   |\n",
      "|Gas Leak (Natural and LP Gases)             |764   |\n",
      "|Water Rescue                                |755   |\n",
      "|Odor (Strange / Unknown)                    |490   |\n",
      "|Electrical Hazard                           |482   |\n",
      "|Elevator / Escalator Rescue                 |453   |\n",
      "|Smoke Investigation (Outside)               |391   |\n",
      "|Fuel Spill                                  |193   |\n",
      "|HazMat                                      |124   |\n",
      "|Industrial Accidents                        |94    |\n",
      "|Explosion                                   |89    |\n",
      "|Train / Rail Incident                       |57    |\n",
      "|Aircraft Emergency                          |36    |\n",
      "|Assist Police                               |35    |\n",
      "|High Angle Rescue                           |32    |\n",
      "|Extrication / Entrapped (Machinery, Vehicle)|28    |\n",
      "|Watercraft in Distress                      |28    |\n",
      "|Oil Spill                                   |21    |\n",
      "|Suspicious Package                          |15    |\n",
      "|Marine Fire                                 |14    |\n",
      "|Confined Space / Structure Collapse         |13    |\n",
      "|Mutual Aid / Assist Outside Agency          |9     |\n",
      "|Administrative                              |3     |\n",
      "+--------------------------------------------+------+\n",
      "\n"
     ]
    }
   ],
   "source": [
    "fire_df.groupby('CallType').count().sort('count', ascending=False).show(30, truncate=False)"
   ]
  },
  {
   "cell_type": "code",
   "execution_count": 33,
   "id": "78c76c99",
   "metadata": {},
   "outputs": [
    {
     "name": "stdout",
     "output_type": "stream",
     "text": [
      "+--------------------------------------------+\n",
      "|CallType                                    |\n",
      "+--------------------------------------------+\n",
      "|Administrative                              |\n",
      "|Aircraft Emergency                          |\n",
      "|Alarms                                      |\n",
      "|Assist Police                               |\n",
      "|Citizen Assist / Service Call               |\n",
      "|Confined Space / Structure Collapse         |\n",
      "|Electrical Hazard                           |\n",
      "|Elevator / Escalator Rescue                 |\n",
      "|Explosion                                   |\n",
      "|Extrication / Entrapped (Machinery, Vehicle)|\n",
      "|Fuel Spill                                  |\n",
      "|Gas Leak (Natural and LP Gases)             |\n",
      "|HazMat                                      |\n",
      "|High Angle Rescue                           |\n",
      "|Industrial Accidents                        |\n",
      "|Marine Fire                                 |\n",
      "|Medical Incident                            |\n",
      "|Mutual Aid / Assist Outside Agency          |\n",
      "|Odor (Strange / Unknown)                    |\n",
      "|Oil Spill                                   |\n",
      "|Other                                       |\n",
      "|Outside Fire                                |\n",
      "|Smoke Investigation (Outside)               |\n",
      "|Structure Fire                              |\n",
      "|Suspicious Package                          |\n",
      "|Traffic Collision                           |\n",
      "|Train / Rail Incident                       |\n",
      "|Vehicle Fire                                |\n",
      "|Water Rescue                                |\n",
      "|Watercraft in Distress                      |\n",
      "+--------------------------------------------+\n",
      "\n"
     ]
    }
   ],
   "source": [
    "fire_df.select('CallType').distinct().sort('CallType').show(n=30, truncate=False)"
   ]
  },
  {
   "cell_type": "code",
   "execution_count": 35,
   "id": "5fd2610b",
   "metadata": {},
   "outputs": [
    {
     "data": {
      "text/plain": [
       "30"
      ]
     },
     "execution_count": 35,
     "metadata": {},
     "output_type": "execute_result"
    }
   ],
   "source": [
    "fire_df.select('CallType').distinct().count()"
   ]
  },
  {
   "cell_type": "code",
   "execution_count": null,
   "id": "03a7f1cf",
   "metadata": {},
   "outputs": [],
   "source": []
  },
  {
   "cell_type": "markdown",
   "id": "1aea8ee3",
   "metadata": {},
   "source": [
    "### What months within the year 2018 saw the highest number of fire calls?"
   ]
  },
  {
   "cell_type": "code",
   "execution_count": 37,
   "id": "d7621c04",
   "metadata": {},
   "outputs": [
    {
     "name": "stdout",
     "output_type": "stream",
     "text": [
      "root\n",
      " |-- CallNumber: string (nullable = true)\n",
      " |-- UnitID: string (nullable = true)\n",
      " |-- IncidentNumber: string (nullable = true)\n",
      " |-- CallType: string (nullable = true)\n",
      " |-- CallDate: string (nullable = true)\n",
      " |-- WatchDate: string (nullable = true)\n",
      " |-- CallFinalDisposition: string (nullable = true)\n",
      " |-- AvailableDtTm: string (nullable = true)\n",
      " |-- Address: string (nullable = true)\n",
      " |-- City: string (nullable = true)\n",
      " |-- Zipcode: string (nullable = true)\n",
      " |-- Battalion: string (nullable = true)\n",
      " |-- StationArea: string (nullable = true)\n",
      " |-- Box: string (nullable = true)\n",
      " |-- OriginalPriority: string (nullable = true)\n",
      " |-- Priority: string (nullable = true)\n",
      " |-- FinalPriority: string (nullable = true)\n",
      " |-- ALSUnit: string (nullable = true)\n",
      " |-- CallTypeGroup: string (nullable = true)\n",
      " |-- NumAlarms: string (nullable = true)\n",
      " |-- UnitType: string (nullable = true)\n",
      " |-- UnitSequenceInCallDispatch: string (nullable = true)\n",
      " |-- FirePreventionDistrict: string (nullable = true)\n",
      " |-- SupervisorDistrict: string (nullable = true)\n",
      " |-- Neighborhood: string (nullable = true)\n",
      " |-- Location: string (nullable = true)\n",
      " |-- RowID: string (nullable = true)\n",
      " |-- Delay: string (nullable = true)\n",
      "\n"
     ]
    }
   ],
   "source": [
    "fire_df.printSchema()"
   ]
  },
  {
   "cell_type": "code",
   "execution_count": 39,
   "id": "4ea2aeb9",
   "metadata": {},
   "outputs": [
    {
     "name": "stdout",
     "output_type": "stream",
     "text": [
      "-RECORD 0-----------------------------------------------------------\n",
      " CallNumber                 | 20110016                              \n",
      " UnitID                     | T13                                   \n",
      " IncidentNumber             | 2003235                               \n",
      " CallType                   | Structure Fire                        \n",
      " CallDate                   | 01/11/2002                            \n",
      " WatchDate                  | 01/10/2002                            \n",
      " CallFinalDisposition       | Other                                 \n",
      " AvailableDtTm              | 01/11/2002 01:51:44 AM                \n",
      " Address                    | 2000 Block of CALIFORNIA ST           \n",
      " City                       | SF                                    \n",
      " Zipcode                    | 94109                                 \n",
      " Battalion                  | B04                                   \n",
      " StationArea                | 38                                    \n",
      " Box                        | 3362                                  \n",
      " OriginalPriority           | 3                                     \n",
      " Priority                   | 3                                     \n",
      " FinalPriority              | 3                                     \n",
      " ALSUnit                    | false                                 \n",
      " CallTypeGroup              | null                                  \n",
      " NumAlarms                  | 1                                     \n",
      " UnitType                   | TRUCK                                 \n",
      " UnitSequenceInCallDispatch | 2                                     \n",
      " FirePreventionDistrict     | 4                                     \n",
      " SupervisorDistrict         | 5                                     \n",
      " Neighborhood               | Pacific Heights                       \n",
      " Location                   | (37.7895840679362, -122.428071912459) \n",
      " RowID                      | 020110016-T13                         \n",
      " Delay                      | 2.95                                  \n",
      "only showing top 1 row\n",
      "\n"
     ]
    }
   ],
   "source": [
    "fire_df.show(1, vertical=True, truncate=False)"
   ]
  },
  {
   "cell_type": "code",
   "execution_count": 51,
   "id": "102ec7cb",
   "metadata": {},
   "outputs": [
    {
     "name": "stdout",
     "output_type": "stream",
     "text": [
      "+----------+-----+\n",
      "|  CallDate|count|\n",
      "+----------+-----+\n",
      "|05/02/2002|   20|\n",
      "|06/11/2002|   19|\n",
      "|06/26/2005|   11|\n",
      "|07/24/2005|   27|\n",
      "|10/31/2002|   21|\n",
      "|04/04/2003|   17|\n",
      "|06/18/2003|   20|\n",
      "|08/01/2003|   29|\n",
      "|08/06/2003|   22|\n",
      "|02/08/2002|   25|\n",
      "|06/06/2002|   18|\n",
      "|07/10/2002|   24|\n",
      "|03/19/2003|   19|\n",
      "|05/18/2003|   21|\n",
      "|08/23/2003|   28|\n",
      "|07/09/2005|   23|\n",
      "|07/29/2005|   20|\n",
      "|12/16/2005|   32|\n",
      "|01/29/2002|   39|\n",
      "|04/09/2002|   25|\n",
      "+----------+-----+\n",
      "only showing top 20 rows\n",
      "\n"
     ]
    }
   ],
   "source": [
    "fire_df.groupby('CallDate').count().show()"
   ]
  },
  {
   "cell_type": "code",
   "execution_count": 63,
   "id": "d60dbf18",
   "metadata": {},
   "outputs": [
    {
     "name": "stdout",
     "output_type": "stream",
     "text": [
      "+------------------------------+-----+\n",
      "|year(to_date(CallDate, m/d/y))|count|\n",
      "+------------------------------+-----+\n",
      "|                          2003| 8499|\n",
      "|                          2006| 8174|\n",
      "|                          2005| 8282|\n",
      "|                          2002| 8090|\n",
      "|                          2009| 8789|\n",
      "|                          2010| 9341|\n",
      "|                          2008| 8869|\n",
      "|                          2013|10020|\n",
      "|                          2012| 9674|\n",
      "|                          2011| 9735|\n",
      "|                          2015|11458|\n",
      "|                          2014|10775|\n",
      "|                          2018|10136|\n",
      "|                          2016|11609|\n",
      "|                          2017|12135|\n",
      "|                          2007| 8255|\n",
      "|                          2004| 8283|\n",
      "|                          2001| 7713|\n",
      "|                          2000| 5459|\n",
      "+------------------------------+-----+\n",
      "\n"
     ]
    }
   ],
   "source": [
    "fire_df.groupby(year(to_date(column(\"CallDate\"), \"m/d/y\"))).count().show()"
   ]
  },
  {
   "cell_type": "code",
   "execution_count": null,
   "id": "4f0bdda5",
   "metadata": {},
   "outputs": [],
   "source": []
  }
 ],
 "metadata": {
  "kernelspec": {
   "display_name": "Python [conda env:pyspark3_09]",
   "language": "python",
   "name": "conda-env-pyspark3_09-py"
  },
  "language_info": {
   "codemirror_mode": {
    "name": "ipython",
    "version": 3
   },
   "file_extension": ".py",
   "mimetype": "text/x-python",
   "name": "python",
   "nbconvert_exporter": "python",
   "pygments_lexer": "ipython3",
   "version": "3.9.12"
  }
 },
 "nbformat": 4,
 "nbformat_minor": 5
}
